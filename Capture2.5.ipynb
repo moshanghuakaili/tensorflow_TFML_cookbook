{
 "cells": [
  {
   "cell_type": "code",
   "execution_count": 45,
   "metadata": {},
   "outputs": [],
   "source": [
    "import tensorflow as tf\n",
    "import numpy as np\n",
    "import matplotlib.pyplot as plt"
   ]
  },
  {
   "cell_type": "code",
   "execution_count": 46,
   "metadata": {},
   "outputs": [],
   "source": [
    "sess=tf.Session()\n"
   ]
  },
  {
   "cell_type": "code",
   "execution_count": 47,
   "metadata": {},
   "outputs": [],
   "source": [
    "#2.5 实现损失函数\n",
    "# 度量模型输出值与目标值之间的差值"
   ]
  },
  {
   "cell_type": "code",
   "execution_count": 55,
   "metadata": {},
   "outputs": [],
   "source": [
    "#创建预测序列和目标序列作为张量\n",
    "# 预测序列为-1到1的等差数列\n",
    "x_vals=tf.linspace(-1.,1.,500)\n",
    "target = tf.constant(0.)"
   ]
  },
  {
   "cell_type": "code",
   "execution_count": 56,
   "metadata": {},
   "outputs": [],
   "source": [
    "#L2正则损失函数(欧拉损失函数) - 回归算法的损失函数\n",
    "# 预测值和目标值差值的平方和\n",
    "# 在目标值附近有更好的曲度，离目标越近收敛越慢\n",
    "l2_y_vals=tf.square(target-x_vals)\n",
    "l2_y_out=sess.run(l2_y_vals)\n",
    "\n",
    "# 内建函数 tf.nn.l2_loss()其实是实际正则l2_y_vals的1/2\n",
    "# tf.nn.l2_loss(\n",
    "#     t,\n",
    "#     name=None\n",
    "# )"
   ]
  },
  {
   "cell_type": "code",
   "execution_count": 57,
   "metadata": {},
   "outputs": [],
   "source": [
    "#L1正则损失函数(绝对值损失函数) - 回归算法的损失函数\n",
    "# 预测值和目标值差值的绝对值\n",
    "# 在目标值附近不平滑，可能导致算法不能很好地收敛\n",
    "l1_y_vals=tf.abs(target-x_vals)\n",
    "l1_y_out=sess.run(l1_y_vals)"
   ]
  },
  {
   "cell_type": "code",
   "execution_count": 58,
   "metadata": {
    "scrolled": false
   },
   "outputs": [],
   "source": [
    "#Pseudo-Huber损失函数 - 回归算法的损失函数\n",
    "# 是Huber损失函数的连续、平滑估计，试图利用L1和L2正则消减极值处的陡峭，使得目标值附近连续\n",
    "# 表达式参数delta\n",
    "# delta*delta*(sqrt(1+((y-x)/delta))*((y-x)/delta))-1)\n",
    "delta1=tf.constant(0.25)\n",
    "phuber1_y_vals=tf.multiply(tf.square(delta1),tf.sqrt(1.+tf.square((target-x_vals)/delta1))-1.)\n",
    "phuber1_y_out=sess.run(phuber1_y_vals)\n",
    "delta2=tf.constant(5.)\n",
    "phuber2_y_vals=tf.multiply(tf.square(delta2),tf.sqrt(1.+tf.square((target-x_vals)/delta2))-1.)\n",
    "phuber2_y_out=sess.run(phuber2_y_vals)"
   ]
  },
  {
   "cell_type": "code",
   "execution_count": 59,
   "metadata": {},
   "outputs": [],
   "source": [
    "# 重新给x_vals和target赋值\n",
    "x_vals=tf.linspace(-3.,5.,500)\n",
    "target = tf.constant(1.)\n",
    "targets= tf.fill([500,],1.)"
   ]
  },
  {
   "cell_type": "code",
   "execution_count": null,
   "metadata": {},
   "outputs": [],
   "source": [
    "#Hinge损失函数 - 分类算法的损失函数\n",
    "# 主要用来评估支持向量机算法，有时也用来评估神经网络算法\n"
   ]
  }
 ],
 "metadata": {
  "kernelspec": {
   "display_name": "Python 3",
   "language": "python",
   "name": "python3"
  },
  "language_info": {
   "codemirror_mode": {
    "name": "ipython",
    "version": 3
   },
   "file_extension": ".py",
   "mimetype": "text/x-python",
   "name": "python",
   "nbconvert_exporter": "python",
   "pygments_lexer": "ipython3",
   "version": "3.5.3"
  }
 },
 "nbformat": 4,
 "nbformat_minor": 2
}
