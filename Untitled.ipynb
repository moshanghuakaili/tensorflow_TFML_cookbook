{
 "cells": [
  {
   "cell_type": "code",
   "execution_count": 18,
   "metadata": {},
   "outputs": [],
   "source": [
    "import tensorflow as tf\n",
    "import numpy as np"
   ]
  },
  {
   "cell_type": "code",
   "execution_count": 49,
   "metadata": {},
   "outputs": [],
   "source": [
    "sess=tf.Session()\n"
   ]
  },
  {
   "cell_type": "code",
   "execution_count": 50,
   "metadata": {},
   "outputs": [
    {
     "name": "stdout",
     "output_type": "stream",
     "text": [
      "3.0\n",
      "9.0\n",
      "15.0\n",
      "21.0\n",
      "27.0\n"
     ]
    }
   ],
   "source": [
    "#2.2 计算图中的操作\n",
    "# 创建一个numpy数组，传入计算图操作\n",
    "# 首先创建数据集和计算图操作，然后传入数据，打印返回值\n",
    "x_vals = np.array([1.,3.,5.,7.,9.]) #创建数据集\n",
    "x_data = tf.placeholder(tf.float32) #占位符\n",
    "m_const = tf.constant(3.) \n",
    "my_product = tf.multiply(x_data,m_const) #创建计算图操作\n",
    "for x in x_vals:\n",
    "    print(sess.run(my_product,feed_dict={x_data:x})) #传入数据，打印返回值"
   ]
  },
  {
   "cell_type": "code",
   "execution_count": 58,
   "metadata": {},
   "outputs": [
    {
     "name": "stdout",
     "output_type": "stream",
     "text": [
      "[[ 102.]\n",
      " [  66.]\n",
      " [  58.]]\n",
      "[[ 114.]\n",
      " [  78.]\n",
      " [  70.]]\n"
     ]
    }
   ],
   "source": [
    "#2.3 嵌入Layer\n",
    "# 传入两个形状为3*5的numpy数组，\n",
    "#     每个矩阵乘以常量矩阵(5*1)，返回一个3*1的矩阵，\n",
    "#     乘以一个1*1的矩阵，返回一个3*1的矩阵\n",
    "#     加上一个3*1的矩阵，返回一个3*1的矩阵\n",
    "\n",
    "#创建数据集和占位符\n",
    "my_array=np.array([[1.,3.,5.,7.,9.],[-2.,0.,2.,4.,6.],[-6.,-3.,0.,3.,6.]])\n",
    "x_vals=np.array([my_array,my_array+1])\n",
    "x_data=tf.placeholder(tf.float32,shape=[3,5])#可以不设置shape\n",
    "\n",
    "#创建矩阵乘法和加法中要用到的常量矩阵\n",
    "m1=tf.constant([[1.],[0.],[-1.],[2.],[4.]])\n",
    "m2=tf.constant([[2.]])\n",
    "a1=tf.constant([[10.]])# 1*1 or 3*1\n",
    "\n",
    "#声明操作，表示成计算图\n",
    "prod1=tf.matmul(x_data,m1)\n",
    "prod2=tf.matmul(prod1,m2)\n",
    "add1=tf.add(prod2,a1)\n",
    "\n",
    "#赋值并输出\n",
    "for x_val in x_vals:\n",
    "    print(sess.run(add1,feed_dict={x_data:x_val}))\n",
    "\n",
    "#在计算图运行前，声明数据形状，并预估操作返回值的形状"
   ]
  },
  {
   "cell_type": "code",
   "execution_count": 59,
   "metadata": {},
   "outputs": [],
   "source": [
    "#2.4 多层Layer\n",
    "# 生成随机图片数据\n",
    "# 对于图片进行滑动窗口平均\n",
    "# 通过自定义操作层Layer返回结果\n",
    "# 命名管理\n",
    "\n",
    "#通过numpy创建2D图像(4*4)\n",
    "x_shape=[1,4,4,1] #单色通道图 4维表示[数量，高度，宽度，颜色通道] \n",
    "x_val=np.random.uniform(size=x_shape)\n",
    "\n",
    "x_data=tf,placeholder([tf.float32,shape=x_shape])\n",
    "\n",
    "#构建卷积2*2形状的常量窗口\n",
    "#使用内建函数conv2d() (常用来做图像处理)\n",
    "\n"
   ]
  },
  {
   "cell_type": "code",
   "execution_count": 19,
   "metadata": {},
   "outputs": [
    {
     "data": {
      "text/plain": [
       "array([[ 0.29457512,  0.51729906],\n",
       "       [ 0.8032741 ,  0.88278431]], dtype=float32)"
      ]
     },
     "execution_count": 19,
     "metadata": {},
     "output_type": "execute_result"
    }
   ],
   "source": [
    "sess=tf.Session()\n",
    "x=tf.placeholder(tf.float32, shape=[2,2])\n",
    "y=tf.identity(x)\n",
    "x_vals=np.random.rand(2,2)\n",
    "sess.run(y,feed_dict={x:x_vals})"
   ]
  },
  {
   "cell_type": "code",
   "execution_count": 28,
   "metadata": {
    "scrolled": false
   },
   "outputs": [
    {
     "name": "stdout",
     "output_type": "stream",
     "text": [
      "[[ 1.  0.  0.]\n",
      " [ 0.  1.  0.]\n",
      " [ 0.  0.  1.]]\n",
      "[[-0.95272911  0.79520285 -0.90794802]\n",
      " [-0.24005896  1.04396939  0.70926511]]\n",
      "[[ 0.80000001  0.80000001  0.80000001]\n",
      " [ 0.80000001  0.80000001  0.80000001]]\n",
      "[[ 0.23903739  0.92039955]\n",
      " [ 0.05051243  0.49574447]\n",
      " [ 0.83552229  0.02647042]]\n",
      "[[ 1.  2.  3.]\n",
      " [-3. -7. -1.]\n",
      " [ 0.  5. -2.]]\n"
     ]
    }
   ],
   "source": [
    "sess=tf.Session()\n",
    "\n",
    "identity_matrix = tf.diag([1.0,1.0,1.0])\n",
    "A = tf.truncated_normal([2,3])\n",
    "B = tf.fill([2,3],0.8)\n",
    "C = tf.random_uniform([3,2],seed=1)\n",
    "D = tf.convert_to_tensor(np.array([[1.,2.,3.],[-3.,-7.,-1.],[0.,5.,-2.]]))\n",
    "\n",
    "print(sess.run(identity_matrix))\n",
    "print(sess.run(A))\n",
    "print(sess.run(B))\n",
    "print(sess.run(C))\n",
    "print(sess.run(D))\n"
   ]
  },
  {
   "cell_type": "code",
   "execution_count": 34,
   "metadata": {},
   "outputs": [
    {
     "name": "stdout",
     "output_type": "stream",
     "text": [
      "[[ 2.44238114  1.89896107  0.52731776]\n",
      " [ 1.43781853  0.04600322  0.33040866]]\n",
      "[[ 2.427598    1.13535881  0.26950061]\n",
      " [ 1.56445491 -0.62324995  0.50735688]]\n",
      "[[-2.56010413 -1.17619801 -1.29559481]\n",
      " [-0.44573292 -0.42111346 -1.86690164]]\n",
      "[[-1.20233083 -1.92833281 -0.45027575]\n",
      " [-0.00653267 -0.53957689 -0.8326593 ]]\n"
     ]
    }
   ],
   "source": [
    "print(sess.run(A+B))\n",
    "print(sess.run(tf.add(A,B)))\n",
    "print(sess.run(A-B))\n",
    "print(sess.run(tf.subtract(A,B)))"
   ]
  },
  {
   "cell_type": "code",
   "execution_count": 35,
   "metadata": {},
   "outputs": [
    {
     "name": "stdout",
     "output_type": "stream",
     "text": [
      "[[ 1.54832697  1.26318049]\n",
      " [ 1.54832697  1.26318049]]\n"
     ]
    }
   ],
   "source": [
    "print(sess.run(tf.matmul(B,C))) "
   ]
  },
  {
   "cell_type": "code",
   "execution_count": 36,
   "metadata": {},
   "outputs": [
    {
     "name": "stdout",
     "output_type": "stream",
     "text": [
      "[[ 1. -3.  0.]\n",
      " [ 2. -7.  5.]\n",
      " [ 3. -1. -2.]]\n"
     ]
    }
   ],
   "source": [
    "print(sess.run(tf.transpose(D)))"
   ]
  },
  {
   "cell_type": "code",
   "execution_count": 37,
   "metadata": {},
   "outputs": [
    {
     "name": "stdout",
     "output_type": "stream",
     "text": [
      "-38.0\n"
     ]
    }
   ],
   "source": [
    "print(sess.run(tf.matrix_determinant(D)))"
   ]
  },
  {
   "cell_type": "code",
   "execution_count": 39,
   "metadata": {},
   "outputs": [
    {
     "name": "stdout",
     "output_type": "stream",
     "text": [
      "[[-0.5        -0.5        -0.5       ]\n",
      " [ 0.15789474  0.05263158  0.21052632]\n",
      " [ 0.39473684  0.13157895  0.02631579]]\n"
     ]
    }
   ],
   "source": [
    "print(sess.run(tf.matrix_inverse(D)))"
   ]
  },
  {
   "cell_type": "code",
   "execution_count": 43,
   "metadata": {},
   "outputs": [
    {
     "name": "stdout",
     "output_type": "stream",
     "text": [
      "[[ 1.  0.  0.]\n",
      " [ 0.  1.  0.]\n",
      " [ 0.  0.  1.]]\n"
     ]
    }
   ],
   "source": [
    "print(sess.run(tf.cholesky(identity_matrix)))"
   ]
  },
  {
   "cell_type": "code",
   "execution_count": 44,
   "metadata": {},
   "outputs": [
    {
     "name": "stdout",
     "output_type": "stream",
     "text": [
      "(array([-10.65907521,  -0.22750691,   2.88658212]), array([[ 0.21749542,  0.63250104, -0.74339638],\n",
      "       [ 0.84526515,  0.2587998 ,  0.46749277],\n",
      "       [-0.4880805 ,  0.73004459,  0.47834331]]))\n"
     ]
    }
   ],
   "source": [
    "print(sess.run(tf.self_adjoint_eig(D)))"
   ]
  },
  {
   "cell_type": "code",
   "execution_count": 45,
   "metadata": {},
   "outputs": [
    {
     "name": "stdout",
     "output_type": "stream",
     "text": [
      "[[ 1.  1.  1.]\n",
      " [ 1.  1.  1.]]\n"
     ]
    }
   ],
   "source": [
    "print(sess.run(tf.ceil(B)))"
   ]
  },
  {
   "cell_type": "code",
   "execution_count": null,
   "metadata": {},
   "outputs": [],
   "source": []
  }
 ],
 "metadata": {
  "kernelspec": {
   "display_name": "Python 3",
   "language": "python",
   "name": "python3"
  },
  "language_info": {
   "codemirror_mode": {
    "name": "ipython",
    "version": 3
   },
   "file_extension": ".py",
   "mimetype": "text/x-python",
   "name": "python",
   "nbconvert_exporter": "python",
   "pygments_lexer": "ipython3",
   "version": "3.5.3"
  }
 },
 "nbformat": 4,
 "nbformat_minor": 2
}
