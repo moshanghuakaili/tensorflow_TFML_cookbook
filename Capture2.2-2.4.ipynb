{
 "cells": [
  {
   "cell_type": "code",
   "execution_count": 1,
   "metadata": {},
   "outputs": [],
   "source": [
    "import tensorflow as tf\n",
    "import numpy as np"
   ]
  },
  {
   "cell_type": "code",
   "execution_count": 2,
   "metadata": {},
   "outputs": [],
   "source": [
    "sess=tf.Session()\n"
   ]
  },
  {
   "cell_type": "code",
   "execution_count": 3,
   "metadata": {},
   "outputs": [
    {
     "name": "stdout",
     "output_type": "stream",
     "text": [
      "3.0\n",
      "9.0\n",
      "15.0\n",
      "21.0\n",
      "27.0\n"
     ]
    }
   ],
   "source": [
    "#2.2 计算图中的操作\n",
    "# 创建一个numpy数组，传入计算图操作\n",
    "# 首先创建数据集和计算图操作，然后传入数据，打印返回值\n",
    "x_vals = np.array([1.,3.,5.,7.,9.]) #创建数据集\n",
    "x_data = tf.placeholder(tf.float32) #占位符\n",
    "m_const = tf.constant(3.) \n",
    "my_product = tf.multiply(x_data,m_const) #创建计算图操作\n",
    "for x in x_vals:\n",
    "    print(sess.run(my_product,feed_dict={x_data:x})) #传入数据，打印返回值"
   ]
  },
  {
   "cell_type": "code",
   "execution_count": 4,
   "metadata": {},
   "outputs": [
    {
     "name": "stdout",
     "output_type": "stream",
     "text": [
      "[[ 102.]\n",
      " [  66.]\n",
      " [  58.]]\n",
      "[[ 114.]\n",
      " [  78.]\n",
      " [  70.]]\n"
     ]
    }
   ],
   "source": [
    "#2.3 嵌入Layer\n",
    "# 传入两个形状为3*5的numpy数组，\n",
    "#     每个矩阵乘以常量矩阵(5*1)，返回一个3*1的矩阵，\n",
    "#     乘以一个1*1的矩阵，返回一个3*1的矩阵\n",
    "#     加上一个3*1的矩阵，返回一个3*1的矩阵\n",
    "\n",
    "#创建数据集和占位符\n",
    "my_array=np.array([[1.,3.,5.,7.,9.],[-2.,0.,2.,4.,6.],[-6.,-3.,0.,3.,6.]])\n",
    "x_vals=np.array([my_array,my_array+1])\n",
    "x_data=tf.placeholder(tf.float32,shape=[3,5])#可以不设置shape\n",
    "\n",
    "#创建矩阵乘法和加法中要用到的常量矩阵\n",
    "m1=tf.constant([[1.],[0.],[-1.],[2.],[4.]])\n",
    "m2=tf.constant([[2.]])\n",
    "a1=tf.constant([[10.]])# 1*1 or 3*1\n",
    "\n",
    "#声明操作，表示成计算图\n",
    "prod1=tf.matmul(x_data,m1)\n",
    "prod2=tf.matmul(prod1,m2)\n",
    "add1=tf.add(prod2,a1)\n",
    "\n",
    "#赋值并输出\n",
    "for x_val in x_vals:\n",
    "    print(sess.run(add1,feed_dict={x_data:x_val}))\n",
    "\n",
    "#在计算图运行前，声明数据形状，并预估操作返回值的形状"
   ]
  },
  {
   "cell_type": "code",
   "execution_count": 5,
   "metadata": {},
   "outputs": [
    {
     "name": "stdout",
     "output_type": "stream",
     "text": [
      "[[ 0.94731104  0.89723796]\n",
      " [ 0.90762883  0.84865725]]\n"
     ]
    }
   ],
   "source": [
    "#2.4 多层Layer\n",
    "# 生成随机图片数据\n",
    "# 对于图片进行滑动窗口平均\n",
    "# 通过自定义操作层Layer返回结果\n",
    "# 命名管理\n",
    "\n",
    "#通过numpy创建2D图像(4*4)\n",
    "x_shape=[1,4,4,1] #单色通道图 4维表示[数量，高度，宽度，颜色通道] \n",
    "x_val=np.random.uniform(size=x_shape)\n",
    "\n",
    "x_data=tf.placeholder(tf.float32,shape=x_shape)\n",
    "\n",
    "#构建卷积2*2形状的常量窗口\n",
    "#使用内建函数conv2d() (常用来做图像处理)\n",
    "my_filter = tf.constant(0.25,shape=[2,2,1,1]) #2*2的卷积核\n",
    "my_strides = [1,2,2,1] #步长宽高均为2\n",
    "mov_avg_layer = tf.nn.conv2d(x_data,my_filter,my_strides,padding='SAME',name='Moving_Avg_Window')#通过设置name参数，将这层的layer命名，有助于可视化的更好理解\n",
    "\n",
    "#定义一个自定义Layer，操作滑动窗口平均的2*2返回值\n",
    "# 因为矩阵乘法只计算二维矩阵，所以裁剪图像的多余维度(大小为1) \n",
    "# 输入张量乘以一个2*2的矩阵张量\n",
    "# 然后每个元素+1\n",
    "def custom_layer(input_matrix):\n",
    "    input_matrix_squeezed = tf.squeeze(input_matrix) \n",
    "    A=tf.constant([[1.,2.],[-1.,3.]])\n",
    "    B=tf.constant(1.,shape=[2,2])\n",
    "    temp1=tf.matmul(A,input_matrix_squeezed)\n",
    "    temp=tf.add(temp1,B)\n",
    "    return(tf.sigmoid(temp))\n",
    "    \n",
    "#把新定义的Layer加入到计算图中\n",
    "#用tf.name_scope()命名唯一的Layer名字，后续在计算图中可以折叠/扩展Custom_Layer层\n",
    "with tf.name_scope('Custom_Layer') as scope:\n",
    "    custom_layer1=custom_layer(mov_avg_layer)\n",
    "\n",
    "print(sess.run(custom_layer1,feed_dict={x_data:x_val}))"
   ]
  },
  {
   "cell_type": "code",
   "execution_count": 6,
   "metadata": {},
   "outputs": [
    {
     "name": "stdout",
     "output_type": "stream",
     "text": [
      "[[[[ 2.]\n",
      "   [ 3.]]\n",
      "\n",
      "  [[ 3.]\n",
      "   [ 2.]]]]\n"
     ]
    }
   ],
   "source": [
    "# tf.nn.conv2d\n",
    "x_shape = [1,4,4,1]\n",
    "x_val = tf.constant([[[[1.],[2.],[3.],[4.]],\n",
    "                      [[2.],[3.],[4.],[1.]],\n",
    "                      [[3.],[4.],[1.],[2.]],\n",
    "                      [[4.],[1.],[2.],[3.]]]]) #1*4*4*1\n",
    "my_filter = tf.constant(0.25,shape=[2,2,1,1]) #2*2的卷积核\n",
    "my_strides = [1,2,2,1] #步长宽高均为2\n",
    "convolution_layer = tf.nn.conv2d(x_val,my_filter,my_strides,padding='SAME')\n",
    "print(sess.run(convolution_layer))"
   ]
  },
  {
   "cell_type": "code",
   "execution_count": 7,
   "metadata": {
    "scrolled": false
   },
   "outputs": [
    {
     "name": "stdout",
     "output_type": "stream",
     "text": [
      "(1, 2, 1, 3, 1, 1)\n",
      "(2, 3)\n",
      "(2, 1, 3, 1)\n"
     ]
    }
   ],
   "source": [
    "# tf.squeeze\n",
    "#tf.squeeze默认情况下会删除所有大小为1的维度\n",
    "#可以通过设置squeeze_dims来设置在哪些维度的1(从0开始,如第一维和第四维[0,3])\n",
    "x_val = tf.constant(1,shape=[1,2,1,3,1,1]) #1*4*4*1\n",
    "x_val_sq1=tf.squeeze(x_val) \n",
    "x_val_sq2=tf.squeeze(x_val,squeeze_dims=[0,5]) # 如果被选位置不为1维，会报错\n",
    "print(x_val.shape)\n",
    "print(x_val_sq1.shape)\n",
    "print(x_val_sq2.shape)\n"
   ]
  }
 ],
 "metadata": {
  "kernelspec": {
   "display_name": "Python 3",
   "language": "python",
   "name": "python3"
  },
  "language_info": {
   "codemirror_mode": {
    "name": "ipython",
    "version": 3
   },
   "file_extension": ".py",
   "mimetype": "text/x-python",
   "name": "python",
   "nbconvert_exporter": "python",
   "pygments_lexer": "ipython3",
   "version": "3.5.3"
  }
 },
 "nbformat": 4,
 "nbformat_minor": 2
}
